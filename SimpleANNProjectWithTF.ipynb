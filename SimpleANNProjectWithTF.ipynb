{
  "nbformat": 4,
  "nbformat_minor": 0,
  "metadata": {
    "colab": {
      "provenance": [],
      "gpuType": "T4",
      "authorship_tag": "ABX9TyM4ByAnBIvq5sDcHp5TsTU3",
      "include_colab_link": true
    },
    "kernelspec": {
      "name": "python3",
      "display_name": "Python 3"
    },
    "language_info": {
      "name": "python"
    },
    "accelerator": "GPU"
  },
  "cells": [
    {
      "cell_type": "markdown",
      "metadata": {
        "id": "view-in-github",
        "colab_type": "text"
      },
      "source": [
        "<a href=\"https://colab.research.google.com/github/eraydikyologlu/MyProjects/blob/main/SimpleANNProjectWithTF.ipynb\" target=\"_parent\"><img src=\"https://colab.research.google.com/assets/colab-badge.svg\" alt=\"Open In Colab\"/></a>"
      ]
    },
    {
      "cell_type": "code",
      "execution_count": 1,
      "metadata": {
        "colab": {
          "base_uri": "https://localhost:8080/"
        },
        "id": "QmdBy2bq4vMw",
        "outputId": "be9d8e59-5e0f-48fb-8eb8-beaecb804c01"
      },
      "outputs": [
        {
          "output_type": "stream",
          "name": "stdout",
          "text": [
            "Downloading data from https://storage.googleapis.com/tensorflow/tf-keras-datasets/train-labels-idx1-ubyte.gz\n",
            "29515/29515 [==============================] - 0s 0us/step\n",
            "Downloading data from https://storage.googleapis.com/tensorflow/tf-keras-datasets/train-images-idx3-ubyte.gz\n",
            "26421880/26421880 [==============================] - 0s 0us/step\n",
            "Downloading data from https://storage.googleapis.com/tensorflow/tf-keras-datasets/t10k-labels-idx1-ubyte.gz\n",
            "5148/5148 [==============================] - 0s 0us/step\n",
            "Downloading data from https://storage.googleapis.com/tensorflow/tf-keras-datasets/t10k-images-idx3-ubyte.gz\n",
            "4422102/4422102 [==============================] - 0s 0us/step\n"
          ]
        }
      ],
      "source": [
        "import tensorflow as tf\n",
        "import keras\n",
        "import numpy as np\n",
        "\n",
        "fashion_mnist = tf.keras.datasets.fashion_mnist\n",
        "(X_train, y_train), (X_test,y_test) = fashion_mnist.load_data()"
      ]
    },
    {
      "cell_type": "code",
      "source": [
        "x_valid,x_train = X_train[:5000], X_train[5000:]\n",
        "y_valid,y_train = y_train[:5000], y_train[5000:]\n",
        "x_test = X_test\n",
        "np.random.seed(42)\n",
        "tf.random.set_seed(42)"
      ],
      "metadata": {
        "id": "0QZfeug76FBu"
      },
      "execution_count": 2,
      "outputs": []
    },
    {
      "cell_type": "code",
      "source": [
        "train_norm = x_train / 255.0\n",
        "valid_norm = x_valid / 255.0\n",
        "test_norm = x_test / 255.0"
      ],
      "metadata": {
        "id": "Ry3TtH4o6jmQ"
      },
      "execution_count": 3,
      "outputs": []
    },
    {
      "cell_type": "code",
      "source": [
        "model = tf.keras.models.Sequential()\n",
        "model.add(keras.layers.Flatten(input_shape = [28,28])) #28*28 pixel\n",
        "model.add(keras.layers.Dense(300,activation='relu'))\n",
        "model.add(keras.layers.Dense(10,activation='softmax'))"
      ],
      "metadata": {
        "id": "9nAczDRa60Hh"
      },
      "execution_count": 4,
      "outputs": []
    },
    {
      "cell_type": "code",
      "source": [
        "model.compile(loss = 'sparse_categorical_crossentropy',\n",
        "              optimizer='adam',\n",
        "              metrics=['accuracy'])"
      ],
      "metadata": {
        "id": "ne35REJL7apk"
      },
      "execution_count": 5,
      "outputs": []
    },
    {
      "cell_type": "code",
      "source": [
        "model.history = model.fit(train_norm,y_train,epochs = 5, batch_size = 128,validation_data = (valid_norm,y_valid))"
      ],
      "metadata": {
        "colab": {
          "base_uri": "https://localhost:8080/"
        },
        "id": "E5sM5Kzd7nk2",
        "outputId": "9bf3b0f2-50ef-40cf-b938-9396eea4cf9d"
      },
      "execution_count": 6,
      "outputs": [
        {
          "output_type": "stream",
          "name": "stdout",
          "text": [
            "Epoch 1/5\n",
            "430/430 [==============================] - 7s 4ms/step - loss: 0.5337 - accuracy: 0.8146 - val_loss: 0.3999 - val_accuracy: 0.8586\n",
            "Epoch 2/5\n",
            "430/430 [==============================] - 2s 4ms/step - loss: 0.3897 - accuracy: 0.8617 - val_loss: 0.3581 - val_accuracy: 0.8736\n",
            "Epoch 3/5\n",
            "430/430 [==============================] - 1s 3ms/step - loss: 0.3479 - accuracy: 0.8742 - val_loss: 0.3512 - val_accuracy: 0.8780\n",
            "Epoch 4/5\n",
            "430/430 [==============================] - 1s 3ms/step - loss: 0.3215 - accuracy: 0.8831 - val_loss: 0.3479 - val_accuracy: 0.8740\n",
            "Epoch 5/5\n",
            "430/430 [==============================] - 1s 3ms/step - loss: 0.3011 - accuracy: 0.8900 - val_loss: 0.3068 - val_accuracy: 0.8880\n"
          ]
        }
      ]
    },
    {
      "cell_type": "code",
      "source": [
        "print(\"Modeli test verilerinde değerlendirme\")\n",
        "results = model.evaluate(test_norm,y_test,batch_size = 128)"
      ],
      "metadata": {
        "colab": {
          "base_uri": "https://localhost:8080/"
        },
        "id": "bCXHiO1473Bs",
        "outputId": "e4e47096-c4a3-4421-b8de-0301405c286b"
      },
      "execution_count": 7,
      "outputs": [
        {
          "output_type": "stream",
          "name": "stdout",
          "text": [
            "Modeli test verilerinde değerlendirme\n",
            "79/79 [==============================] - 0s 3ms/step - loss: 0.3502 - accuracy: 0.8751\n"
          ]
        }
      ]
    },
    {
      "cell_type": "code",
      "source": [],
      "metadata": {
        "id": "mUZyqwRD8DKx"
      },
      "execution_count": null,
      "outputs": []
    }
  ]
}
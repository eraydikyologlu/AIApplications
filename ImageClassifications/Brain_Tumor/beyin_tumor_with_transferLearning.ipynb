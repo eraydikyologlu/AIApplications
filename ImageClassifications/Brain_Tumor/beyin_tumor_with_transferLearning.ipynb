{
 "cells": [
  {
   "cell_type": "code",
   "execution_count": null,
   "metadata": {},
   "outputs": [],
   "source": [
    "\"\"\"\n",
    "1. Importing necessary libraries:\n",
    "\n",
    "- `matplotlib.pyplot`: For plotting graphs.\n",
    "- `numpy`: For numerical calculations.\n",
    "- `pandas`: For data manipulation.\n",
    "- `seaborn`: For data visualization.\n",
    "- `cv2`: For reading and resizing the images.\n",
    "- `tensorflow`: A machine learning framework for defining and training the model.\n",
    "- `ImageDataGenerator`: For data augmentation in Keras.\n",
    "- `tqdm`: For displaying a progress bar.\n",
    "- `os`: For reading file and directory structure.\n",
    "- `shuffle`: To shuffle the data.\n",
    "- `train_test_split`: To split the dataset into the training set and test set.\n",
    "- `EfficientNetB0`: Pretrained model used for transfer learning.\n",
    "- `EarlyStopping`, `ReduceLROnPlateau`, `TensorBoard`, `ModelCheckpoint`: Various callbacks for Keras.\n",
    "- `classification_report`, `confusion_matrix`: For model evaluation.\n",
    "\n",
    "2. Defining the labels of the classes. These are 'glioma_tumor', 'no_tumor', 'meningioma_tumor', and 'pituitary_tumor'.\n",
    "\n",
    "3. Loading and preprocessing the data:\n",
    "\n",
    "- The images are read from their directories using `cv2.imread()`.\n",
    "- They are then resized to (150,150) using `cv2.resize()`.\n",
    "- The processed images are appended to `X_train` and their labels to `y_train`.\n",
    "\n",
    "4. The data is shuffled and split into training and test sets using `shuffle` and `train_test_split`.\n",
    "\n",
    "5. The labels are converted to one-hot vectors for model training.\n",
    "\n",
    "6. The base model `EfficientNetB0` is initialized with pre-trained ImageNet weights.\n",
    "\n",
    "7. Custom layers are added on top of the base model:\n",
    "\n",
    "- `GlobalAveragePooling2D`: This layer is used to reduce the spatial dimensions of the output volume.\n",
    "- `Dropout`: This is a regularization method where input units are dropped with a given probability to prevent overfitting.\n",
    "- `Dense`: This is the output layer with 4 units (one for each class) and 'softmax' activation.\n",
    "\n",
    "8. The model is compiled with the 'categorical_crossentropy' loss function, 'Adam' optimizer and 'accuracy' as the evaluation metric.\n",
    "\n",
    "9. Callbacks are set up:\n",
    "\n",
    "- `TensorBoard`: For visualization of model training.\n",
    "- `ModelCheckpoint`: To save the model weights after every epoch.\n",
    "- `ReduceLROnPlateau`: To reduce learning rate when a metric has stopped improving.\n",
    "\n",
    "10. The model is trained using the `fit` function.\n",
    "\n",
    "11. Predictions are made on the test set and the model is evaluated using `classification_report`.\n",
    "\n",
    "12. A confusion matrix is plotted for a more detailed analysis of the model's performance.\n",
    "\"\"\""
   ]
  },
  {
   "cell_type": "code",
   "execution_count": 8,
   "metadata": {},
   "outputs": [],
   "source": [
    "import matplotlib.pyplot as plt\n",
    "import numpy as np\n",
    "import pandas as pd\n",
    "import seaborn as sns\n",
    "import cv2\n",
    "import tensorflow as tf\n",
    "from tensorflow.keras.preprocessing.image import ImageDataGenerator\n",
    "from tqdm import tqdm\n",
    "import os\n",
    "from sklearn.utils import shuffle\n",
    "from sklearn.model_selection import train_test_split\n",
    "from tensorflow.keras.applications import EfficientNetB0\n",
    "from tensorflow.keras.callbacks import EarlyStopping, ReduceLROnPlateau, TensorBoard, ModelCheckpoint\n",
    "from sklearn.metrics import classification_report,confusion_matrix\n",
    "from warnings import filterwarnings\n",
    "from sklearn.metrics import confusion_matrix\n",
    "import itertools\n",
    "\n",
    "from keras.utils.np_utils import to_categorical # convert to one-hot-encoding\n",
    "from keras.models import Sequential\n",
    "from keras.layers import Dense, Dropout, Flatten, Conv2D, MaxPool2D\n",
    "from keras.optimizers import RMSprop,Adam\n",
    "from keras.preprocessing.image import ImageDataGenerator\n",
    "from keras.callbacks import ReduceLROnPlateau"
   ]
  },
  {
   "cell_type": "code",
   "execution_count": null,
   "metadata": {},
   "outputs": [],
   "source": [
    "#The link of the data we use in this project: https://www.kaggle.com/datasets/sartajbhuvaji/brain-tumor-classification-mri"
   ]
  },
  {
   "cell_type": "code",
   "execution_count": 9,
   "metadata": {},
   "outputs": [],
   "source": [
    "labels = ['glioma_tumor','no_tumor','meningioma_tumor','pituitary_tumor']"
   ]
  },
  {
   "cell_type": "code",
   "execution_count": 10,
   "metadata": {},
   "outputs": [
    {
     "name": "stderr",
     "output_type": "stream",
     "text": [
      "100%|██████████| 826/826 [00:01<00:00, 719.61it/s]\n",
      "100%|██████████| 395/395 [00:00<00:00, 842.50it/s]\n",
      "100%|██████████| 822/822 [00:01<00:00, 748.23it/s]\n",
      "100%|██████████| 827/827 [00:01<00:00, 665.51it/s]\n",
      "100%|██████████| 100/100 [00:00<00:00, 848.87it/s]\n",
      "100%|██████████| 105/105 [00:00<00:00, 1775.94it/s]\n",
      "100%|██████████| 115/115 [00:00<00:00, 1046.01it/s]\n",
      "100%|██████████| 74/74 [00:00<00:00, 311.10it/s]\n"
     ]
    }
   ],
   "source": [
    "X_train = []\n",
    "y_train = []\n",
    "image_size = 150\n",
    "for i in labels:\n",
    "    folderPath = os.path.join('brain_tumor_data','Training',i)\n",
    "    for j in tqdm(os.listdir(folderPath)):\n",
    "        img = cv2.imread(os.path.join(folderPath,j))\n",
    "        img = cv2.resize(img,(image_size, image_size))\n",
    "        X_train.append(img)\n",
    "        y_train.append(i)\n",
    "        \n",
    "for i in labels:\n",
    "    folderPath = os.path.join('brain_tumor_data','Testing',i)\n",
    "    for j in tqdm(os.listdir(folderPath)):\n",
    "        img = cv2.imread(os.path.join(folderPath,j))\n",
    "        img = cv2.resize(img,(image_size,image_size))\n",
    "        X_train.append(img)\n",
    "        y_train.append(i)\n",
    "        \n",
    "X_train = np.array(X_train)\n",
    "y_train = np.array(y_train)"
   ]
  },
  {
   "cell_type": "code",
   "execution_count": 11,
   "metadata": {},
   "outputs": [],
   "source": [
    "X_train, y_train = shuffle(X_train,y_train, random_state=101)\n",
    "X_train,X_test,y_train,y_test = train_test_split(X_train,y_train, test_size=0.1,random_state=101)"
   ]
  },
  {
   "cell_type": "code",
   "execution_count": 12,
   "metadata": {},
   "outputs": [],
   "source": [
    "y_train_new = []\n",
    "for i in y_train:\n",
    "    y_train_new.append(labels.index(i))\n",
    "y_train = y_train_new\n",
    "y_train = tf.keras.utils.to_categorical(y_train)\n",
    "\n",
    "\n",
    "y_test_new = []\n",
    "for i in y_test:\n",
    "    y_test_new.append(labels.index(i))\n",
    "y_test = y_test_new\n",
    "y_test = tf.keras.utils.to_categorical(y_test)"
   ]
  },
  {
   "cell_type": "code",
   "execution_count": 13,
   "metadata": {},
   "outputs": [],
   "source": [
    "effnet = EfficientNetB0(weights='imagenet',include_top=False,input_shape=(image_size,image_size,3))"
   ]
  },
  {
   "cell_type": "code",
   "execution_count": 14,
   "metadata": {},
   "outputs": [],
   "source": [
    "model = effnet.output\n",
    "model = tf.keras.layers.GlobalAveragePooling2D()(model) #Maxpooling'de filtrenin içindeki max değeri alıyorduk, bunda ise filtrenin içindeki değerlerin ortalamasını alıyoruz. Böylece daha genel bir sonuç alıyoruz.\n",
    "model = tf.keras.layers.Dropout(rate=0.5)(model)\n",
    "model = tf.keras.layers.Dense(4,activation='softmax')(model)\n",
    "model = tf.keras.models.Model(inputs=effnet.input, outputs = model)"
   ]
  },
  {
   "cell_type": "code",
   "execution_count": 15,
   "metadata": {},
   "outputs": [],
   "source": [
    "model.compile(loss='categorical_crossentropy',optimizer='Adam',metrics=['Accuracy'])"
   ]
  },
  {
   "cell_type": "code",
   "execution_count": 16,
   "metadata": {},
   "outputs": [],
   "source": [
    "tensorboard = TensorBoard(log_dir = 'logs')\n",
    "checkpoint = ModelCheckpoint(\"effnetforbraintumor.h5\",monitor=\"val_accuracy\",save_best_only=True,mode = \"auto\",verbose=1)\n",
    "reduce_lr = ReduceLROnPlateau(monitor='val_accuracy',factor=0.3,patience=2,min_delta=0.001,\n",
    "                              mode = 'auto',verbose=1)"
   ]
  },
  {
   "cell_type": "code",
   "execution_count": 17,
   "metadata": {},
   "outputs": [
    {
     "name": "stdout",
     "output_type": "stream",
     "text": [
      "WARNING:tensorflow:Model failed to serialize as JSON. Ignoring... Unable to serialize [2.0896919 2.1128857 2.1081853] to JSON. Unrecognized type <class 'tensorflow.python.framework.ops.EagerTensor'>.\n",
      "Epoch 1/12\n",
      "83/83 [==============================] - ETA: 0s - loss: 0.4514 - Accuracy: 0.8358WARNING:tensorflow:Can save best model only with val_accuracy available, skipping.\n",
      "WARNING:tensorflow:Learning rate reduction is conditioned on metric `val_accuracy` which is not available. Available metrics are: loss,Accuracy,val_loss,val_Accuracy,lr\n",
      "83/83 [==============================] - 97s 1s/step - loss: 0.4514 - Accuracy: 0.8358 - val_loss: 0.3889 - val_Accuracy: 0.8741 - lr: 0.0010\n",
      "Epoch 2/12\n",
      "83/83 [==============================] - ETA: 0s - loss: 0.1841 - Accuracy: 0.9364WARNING:tensorflow:Can save best model only with val_accuracy available, skipping.\n",
      "WARNING:tensorflow:Learning rate reduction is conditioned on metric `val_accuracy` which is not available. Available metrics are: loss,Accuracy,val_loss,val_Accuracy,lr\n",
      "83/83 [==============================] - 84s 1s/step - loss: 0.1841 - Accuracy: 0.9364 - val_loss: 0.1507 - val_Accuracy: 0.9456 - lr: 0.0010\n",
      "Epoch 3/12\n",
      "83/83 [==============================] - ETA: 0s - loss: 0.1303 - Accuracy: 0.9576WARNING:tensorflow:Can save best model only with val_accuracy available, skipping.\n",
      "WARNING:tensorflow:Learning rate reduction is conditioned on metric `val_accuracy` which is not available. Available metrics are: loss,Accuracy,val_loss,val_Accuracy,lr\n",
      "83/83 [==============================] - 81s 975ms/step - loss: 0.1303 - Accuracy: 0.9576 - val_loss: 0.2505 - val_Accuracy: 0.9286 - lr: 0.0010\n",
      "Epoch 4/12\n",
      "83/83 [==============================] - ETA: 0s - loss: 0.1062 - Accuracy: 0.9671WARNING:tensorflow:Can save best model only with val_accuracy available, skipping.\n",
      "WARNING:tensorflow:Learning rate reduction is conditioned on metric `val_accuracy` which is not available. Available metrics are: loss,Accuracy,val_loss,val_Accuracy,lr\n",
      "83/83 [==============================] - 83s 996ms/step - loss: 0.1062 - Accuracy: 0.9671 - val_loss: 0.1481 - val_Accuracy: 0.9524 - lr: 0.0010\n",
      "Epoch 5/12\n",
      "83/83 [==============================] - ETA: 0s - loss: 0.0687 - Accuracy: 0.9788WARNING:tensorflow:Can save best model only with val_accuracy available, skipping.\n",
      "WARNING:tensorflow:Learning rate reduction is conditioned on metric `val_accuracy` which is not available. Available metrics are: loss,Accuracy,val_loss,val_Accuracy,lr\n",
      "83/83 [==============================] - 93s 1s/step - loss: 0.0687 - Accuracy: 0.9788 - val_loss: 0.3983 - val_Accuracy: 0.9014 - lr: 0.0010\n",
      "Epoch 6/12\n",
      "83/83 [==============================] - ETA: 0s - loss: 0.0548 - Accuracy: 0.9841WARNING:tensorflow:Can save best model only with val_accuracy available, skipping.\n",
      "WARNING:tensorflow:Learning rate reduction is conditioned on metric `val_accuracy` which is not available. Available metrics are: loss,Accuracy,val_loss,val_Accuracy,lr\n",
      "83/83 [==============================] - 94s 1s/step - loss: 0.0548 - Accuracy: 0.9841 - val_loss: 0.1749 - val_Accuracy: 0.9524 - lr: 0.0010\n",
      "Epoch 7/12\n",
      "83/83 [==============================] - ETA: 0s - loss: 0.0675 - Accuracy: 0.9728WARNING:tensorflow:Can save best model only with val_accuracy available, skipping.\n",
      "WARNING:tensorflow:Learning rate reduction is conditioned on metric `val_accuracy` which is not available. Available metrics are: loss,Accuracy,val_loss,val_Accuracy,lr\n",
      "83/83 [==============================] - 89s 1s/step - loss: 0.0675 - Accuracy: 0.9728 - val_loss: 0.4553 - val_Accuracy: 0.8980 - lr: 0.0010\n",
      "Epoch 8/12\n",
      "83/83 [==============================] - ETA: 0s - loss: 0.0760 - Accuracy: 0.9769WARNING:tensorflow:Can save best model only with val_accuracy available, skipping.\n",
      "WARNING:tensorflow:Learning rate reduction is conditioned on metric `val_accuracy` which is not available. Available metrics are: loss,Accuracy,val_loss,val_Accuracy,lr\n",
      "83/83 [==============================] - 86s 1s/step - loss: 0.0760 - Accuracy: 0.9769 - val_loss: 0.1823 - val_Accuracy: 0.9558 - lr: 0.0010\n",
      "Epoch 9/12\n",
      "83/83 [==============================] - ETA: 0s - loss: 0.0665 - Accuracy: 0.9799WARNING:tensorflow:Can save best model only with val_accuracy available, skipping.\n",
      "WARNING:tensorflow:Learning rate reduction is conditioned on metric `val_accuracy` which is not available. Available metrics are: loss,Accuracy,val_loss,val_Accuracy,lr\n",
      "83/83 [==============================] - 85s 1s/step - loss: 0.0665 - Accuracy: 0.9799 - val_loss: 0.1469 - val_Accuracy: 0.9490 - lr: 0.0010\n",
      "Epoch 10/12\n",
      "83/83 [==============================] - ETA: 0s - loss: 0.0371 - Accuracy: 0.9871WARNING:tensorflow:Can save best model only with val_accuracy available, skipping.\n",
      "WARNING:tensorflow:Learning rate reduction is conditioned on metric `val_accuracy` which is not available. Available metrics are: loss,Accuracy,val_loss,val_Accuracy,lr\n",
      "83/83 [==============================] - 85s 1s/step - loss: 0.0371 - Accuracy: 0.9871 - val_loss: 0.3678 - val_Accuracy: 0.9184 - lr: 0.0010\n",
      "Epoch 11/12\n",
      "83/83 [==============================] - ETA: 0s - loss: 0.0232 - Accuracy: 0.9913WARNING:tensorflow:Can save best model only with val_accuracy available, skipping.\n",
      "WARNING:tensorflow:Learning rate reduction is conditioned on metric `val_accuracy` which is not available. Available metrics are: loss,Accuracy,val_loss,val_Accuracy,lr\n",
      "83/83 [==============================] - 88s 1s/step - loss: 0.0232 - Accuracy: 0.9913 - val_loss: 0.2593 - val_Accuracy: 0.9286 - lr: 0.0010\n",
      "Epoch 12/12\n",
      "83/83 [==============================] - ETA: 0s - loss: 0.0179 - Accuracy: 0.9955WARNING:tensorflow:Can save best model only with val_accuracy available, skipping.\n",
      "WARNING:tensorflow:Learning rate reduction is conditioned on metric `val_accuracy` which is not available. Available metrics are: loss,Accuracy,val_loss,val_Accuracy,lr\n",
      "83/83 [==============================] - 88s 1s/step - loss: 0.0179 - Accuracy: 0.9955 - val_loss: 0.1598 - val_Accuracy: 0.9558 - lr: 0.0010\n"
     ]
    }
   ],
   "source": [
    "hist = model.fit(X_train,y_train,validation_split=0.1,epochs = 12, verbose=1 , batch_size=32,\n",
    "                 callbacks=[tensorboard,checkpoint,reduce_lr])"
   ]
  },
  {
   "cell_type": "code",
   "execution_count": 23,
   "metadata": {},
   "outputs": [
    {
     "name": "stdout",
     "output_type": "stream",
     "text": [
      "11/11 [==============================] - 3s 213ms/step\n"
     ]
    }
   ],
   "source": [
    "pred = model.predict(X_test)\n",
    "pred = np.argmax(pred,axis=1)\n",
    "y_test_new = np.argmax(y_test,axis=1)"
   ]
  },
  {
   "cell_type": "code",
   "execution_count": 27,
   "metadata": {},
   "outputs": [
    {
     "name": "stdout",
     "output_type": "stream",
     "text": [
      "              precision    recall  f1-score   support\n",
      "\n",
      "           0       0.97      0.92      0.95        93\n",
      "           1       0.98      0.96      0.97        51\n",
      "           2       0.93      0.96      0.94        96\n",
      "           3       0.97      0.99      0.98        87\n",
      "\n",
      "    accuracy                           0.96       327\n",
      "   macro avg       0.96      0.96      0.96       327\n",
      "weighted avg       0.96      0.96      0.96       327\n",
      "\n"
     ]
    }
   ],
   "source": [
    "print(classification_report(y_test_new,pred))"
   ]
  },
  {
   "cell_type": "code",
   "execution_count": 29,
   "metadata": {},
   "outputs": [
    {
     "data": {
      "image/png": "[encoded data removed]",
      "text/plain": [
       "<Figure size 500x100 with 1 Axes>"
      ]
     },
     "metadata": {},
     "output_type": "display_data"
    },
    {
     "data": {
      "image/png": "[encoded data removed]",
      "text/plain": [
       "<Figure size 500x100 with 1 Axes>"
      ]
     },
     "metadata": {},
     "output_type": "display_data"
    },
    {
     "data": {
      "image/png": "[encoded data removed]",
      "text/plain": [
       "<Figure size 500x100 with 1 Axes>"
      ]
     },
     "metadata": {},
     "output_type": "display_data"
    },
    {
     "data": {
      "image/png": "[encoded data removed]",
      "text/plain": [
       "<Figure size 1400x700 with 2 Axes>"
      ]
     },
     "metadata": {},
     "output_type": "display_data"
    }
   ],
   "source": [
    "colors_dark = [\"#1F1F1F\", \"#313131\", '#636363', '#AEAEAE', '#DADADA']\n",
    "colors_red = [\"#331313\", \"#582626\", '#9E1717', '#D35151', '#E9B4B4']\n",
    "colors_green = ['#01411C','#4B6F44','#4F7942','#74C365','#D0F0C0']\n",
    "\n",
    "sns.palplot(colors_dark)\n",
    "sns.palplot(colors_green)\n",
    "sns.palplot(colors_red)\n",
    "\n",
    "fig,ax=plt.subplots(1,1,figsize=(14,7))\n",
    "sns.heatmap(confusion_matrix(y_test_new,pred),ax=ax,xticklabels=labels,yticklabels=labels,annot=True,\n",
    "           cmap=colors_green[::-1],alpha=0.7,linewidths=2,linecolor=colors_dark[3])\n",
    "fig.text(s='Heatmap of the Confusion Matrix',size=18,fontweight='bold',\n",
    "             fontname='monospace',color=colors_dark[1],y=0.92,x=0.28,alpha=0.8)\n",
    "\n",
    "plt.show()"
   ]
  },
  {
   "cell_type": "code",
   "execution_count": null,
   "metadata": {},
   "outputs": [],
   "source": []
  }
 ],
 "metadata": {
  "kernelspec": {
   "display_name": "Python 3",
   "language": "python",
   "name": "python3"
  },
  "language_info": {
   "codemirror_mode": {
    "name": "ipython",
    "version": 3
   },
   "file_extension": ".py",
   "mimetype": "text/x-python",
   "name": "python",
   "nbconvert_exporter": "python",
   "pygments_lexer": "ipython3",
   "version": "3.11.3"
  },
  "orig_nbformat": 4
 },
 "nbformat": 4,
 "nbformat_minor": 2
}

{
 "cells": [
  {
   "cell_type": "code",
   "execution_count": 8,
   "metadata": {},
   "outputs": [],
   "source": [
    "import tensorflow as tf\n",
    "from tensorflow import keras\n",
    "import numpy as np\n",
    "import matplotlib.pyplot as plt"
   ]
  },
  {
   "cell_type": "code",
   "execution_count": 14,
   "metadata": {},
   "outputs": [
    {
     "name": "stdout",
     "output_type": "stream",
     "text": [
      "Number of original training examples: 60000\n",
      "Number of original test examples: 10000\n"
     ]
    }
   ],
   "source": [
    "(x_train, y_train), (x_test, y_test) = tf.keras.datasets.mnist.load_data()\n",
    "\n",
    "# Rescale the images from [0,255] to the [0.0,1.0] range.\n",
    "x_train, x_test = x_train[..., np.newaxis]/255.0, x_test[..., np.newaxis]/255.0\n",
    "\n",
    "# Add a new dimension to the target tensor\n",
    "y_train = y_train[:, np.newaxis]\n",
    "y_test = y_test[:, np.newaxis]\n",
    "\n",
    "# Convert the target tensor to categorical\n",
    "y_train = keras.utils.to_categorical(y_train, num_classes=10)\n",
    "y_test = keras.utils.to_categorical(y_test, num_classes=10)\n",
    "\n",
    "print(\"Number of original training examples:\", len(x_train))\n",
    "print(\"Number of original test examples:\", len(x_test))"
   ]
  },
  {
   "cell_type": "code",
   "execution_count": 10,
   "metadata": {},
   "outputs": [],
   "source": [
    "#Create the architecture of the model\n",
    "def make_model(input_shape,num_classes):\n",
    "    model = tf.keras.models.Sequential()\n",
    "    model.add(tf.keras.layers.Conv2D(64,(3,3),activation=\"relu\",input_shape = input_shape))\n",
    "    model.add(tf.keras.layers.MaxPooling2D())\n",
    "\n",
    "    model.add(tf.keras.layers.Conv2D(64,(3,3),activation=\"relu\"))\n",
    "    model.add(tf.keras.layers.MaxPooling2D())\n",
    "\n",
    "    model.add(tf.keras.layers.Conv2D(64,(3,3),activation=\"relu\"))\n",
    "    model.add(tf.keras.layers.MaxPooling2D())\n",
    "\n",
    "    model.add(tf.keras.layers.Flatten())\n",
    "    model.add(tf.keras.layers.Dropout(0.5))\n",
    "    model.add(tf.keras.layers.Dense(units = num_classes,activation=\"softmax\"))\n",
    "\n",
    "    return model    \n"
   ]
  },
  {
   "cell_type": "code",
   "execution_count": 11,
   "metadata": {},
   "outputs": [],
   "source": [
    "input_shape = (28,28,1)\n",
    "num_classes = 10\n",
    "model = make_model(input_shape=input_shape,num_classes=num_classes)\n"
   ]
  },
  {
   "cell_type": "code",
   "execution_count": 16,
   "metadata": {},
   "outputs": [
    {
     "name": "stdout",
     "output_type": "stream",
     "text": [
      "Epoch 1/25\n",
      "938/938 [==============================] - 5s 5ms/step - loss: 0.1949 - accuracy: 0.9428 - val_loss: 0.0744 - val_accuracy: 0.9791\n",
      "Epoch 2/25\n",
      "938/938 [==============================] - 5s 5ms/step - loss: 0.1447 - accuracy: 0.9578 - val_loss: 0.0613 - val_accuracy: 0.9810\n",
      "Epoch 3/25\n",
      "938/938 [==============================] - 5s 5ms/step - loss: 0.1236 - accuracy: 0.9639 - val_loss: 0.0515 - val_accuracy: 0.9858\n",
      "Epoch 4/25\n",
      "938/938 [==============================] - 4s 5ms/step - loss: 0.1026 - accuracy: 0.9701 - val_loss: 0.0524 - val_accuracy: 0.9845\n",
      "Epoch 5/25\n",
      "938/938 [==============================] - 4s 5ms/step - loss: 0.0952 - accuracy: 0.9714 - val_loss: 0.0510 - val_accuracy: 0.9848\n",
      "Epoch 6/25\n",
      "938/938 [==============================] - 4s 5ms/step - loss: 0.0868 - accuracy: 0.9746 - val_loss: 0.0488 - val_accuracy: 0.9853\n",
      "Epoch 7/25\n",
      "938/938 [==============================] - 4s 5ms/step - loss: 0.0812 - accuracy: 0.9766 - val_loss: 0.0441 - val_accuracy: 0.9875\n",
      "Epoch 8/25\n",
      "938/938 [==============================] - 5s 5ms/step - loss: 0.0738 - accuracy: 0.9792 - val_loss: 0.0395 - val_accuracy: 0.9888\n",
      "Epoch 9/25\n",
      "938/938 [==============================] - 5s 5ms/step - loss: 0.0719 - accuracy: 0.9780 - val_loss: 0.0441 - val_accuracy: 0.9874\n",
      "Epoch 10/25\n",
      "938/938 [==============================] - 5s 5ms/step - loss: 0.0655 - accuracy: 0.9797 - val_loss: 0.0442 - val_accuracy: 0.9877\n",
      "Epoch 11/25\n",
      "938/938 [==============================] - 5s 5ms/step - loss: 0.0609 - accuracy: 0.9816 - val_loss: 0.0400 - val_accuracy: 0.9898\n",
      "Epoch 12/25\n",
      "938/938 [==============================] - 5s 6ms/step - loss: 0.0568 - accuracy: 0.9833 - val_loss: 0.0399 - val_accuracy: 0.9894\n",
      "Epoch 13/25\n",
      "938/938 [==============================] - 5s 6ms/step - loss: 0.0569 - accuracy: 0.9825 - val_loss: 0.0404 - val_accuracy: 0.9884\n",
      "Epoch 14/25\n",
      "938/938 [==============================] - 5s 5ms/step - loss: 0.0542 - accuracy: 0.9835 - val_loss: 0.0417 - val_accuracy: 0.9889\n",
      "Epoch 15/25\n",
      "938/938 [==============================] - 5s 5ms/step - loss: 0.0493 - accuracy: 0.9847 - val_loss: 0.0450 - val_accuracy: 0.9878\n",
      "Epoch 16/25\n",
      "938/938 [==============================] - 5s 5ms/step - loss: 0.0485 - accuracy: 0.9847 - val_loss: 0.0413 - val_accuracy: 0.9893\n",
      "Epoch 17/25\n",
      "938/938 [==============================] - 5s 6ms/step - loss: 0.0448 - accuracy: 0.9861 - val_loss: 0.0428 - val_accuracy: 0.9895\n",
      "Epoch 18/25\n",
      "938/938 [==============================] - 5s 5ms/step - loss: 0.0461 - accuracy: 0.9859 - val_loss: 0.0408 - val_accuracy: 0.9901\n",
      "Epoch 19/25\n",
      "938/938 [==============================] - 5s 5ms/step - loss: 0.0443 - accuracy: 0.9857 - val_loss: 0.0409 - val_accuracy: 0.9903\n",
      "Epoch 20/25\n",
      "938/938 [==============================] - 5s 5ms/step - loss: 0.0418 - accuracy: 0.9868 - val_loss: 0.0436 - val_accuracy: 0.9903\n",
      "Epoch 21/25\n",
      "938/938 [==============================] - 5s 5ms/step - loss: 0.0406 - accuracy: 0.9875 - val_loss: 0.0432 - val_accuracy: 0.9899\n",
      "Epoch 22/25\n",
      "938/938 [==============================] - 5s 5ms/step - loss: 0.0387 - accuracy: 0.9876 - val_loss: 0.0453 - val_accuracy: 0.9899\n",
      "Epoch 23/25\n",
      "938/938 [==============================] - 5s 6ms/step - loss: 0.0369 - accuracy: 0.9880 - val_loss: 0.0438 - val_accuracy: 0.9904\n",
      "Epoch 24/25\n",
      "938/938 [==============================] - 5s 5ms/step - loss: 0.0355 - accuracy: 0.9890 - val_loss: 0.0470 - val_accuracy: 0.9893\n",
      "Epoch 25/25\n",
      "938/938 [==============================] - 5s 5ms/step - loss: 0.0357 - accuracy: 0.9880 - val_loss: 0.0462 - val_accuracy: 0.9898\n"
     ]
    },
    {
     "data": {
      "text/plain": [
       "<keras.callbacks.History at 0x24aa3e63310>"
      ]
     },
     "execution_count": 16,
     "metadata": {},
     "output_type": "execute_result"
    }
   ],
   "source": [
    "epochs = 25\n",
    "callbacks = [\n",
    "    keras.callbacks.ModelCheckpoint(\"weightsforMNIST2/save_path_{epoch}.keras\",save_best_only=True)\n",
    "]\n",
    "model.compile(optimizer=\"Adam\",loss=\"categorical_crossentropy\",metrics=[\"accuracy\"])\n",
    "model.fit(x_train,y_train,callbacks=callbacks,validation_data=(x_test,y_test),batch_size=64,epochs=epochs)"
   ]
  },
  {
   "cell_type": "code",
   "execution_count": 54,
   "metadata": {},
   "outputs": [
    {
     "data": {
      "image/png": "[encoded data removed]",
      "text/plain": [
       "<Figure size 640x480 with 9 Axes>"
      ]
     },
     "metadata": {},
     "output_type": "display_data"
    }
   ],
   "source": [
    "predictions = model.predict(x_test)\n",
    "for i in range(9):\n",
    "    image = x_test[i]\n",
    "    prediction = predictions[i]\n",
    "\n",
    "    ax = plt.subplot(3,3,i+1)\n",
    "    plt.imshow(image)\n",
    "    plt.title(str(np.argmax(prediction)))\n",
    "    plt.axis(\"off\")\n",
    "plt.show()"
   ]
  }
 ],
 "metadata": {
  "kernelspec": {
   "display_name": "Python 3",
   "language": "python",
   "name": "python3"
  },
  "language_info": {
   "codemirror_mode": {
    "name": "ipython",
    "version": 3
   },
   "file_extension": ".py",
   "mimetype": "text/x-python",
   "name": "python",
   "nbconvert_exporter": "python",
   "pygments_lexer": "ipython3",
   "version": "3.10.11"
  },
  "orig_nbformat": 4
 },
 "nbformat": 4,
 "nbformat_minor": 2
}

{
 "cells": [
  {
   "cell_type": "code",
   "execution_count": 43,
   "metadata": {},
   "outputs": [],
   "source": [
    "import torch\n",
    "from torch import nn\n",
    "from torchvision import datasets\n",
    "from torch.utils.data import Dataset\n",
    "from torchvision.transforms import ToTensor \n",
    "from torch.utils.data import DataLoader"
   ]
  },
  {
   "cell_type": "code",
   "execution_count": 44,
   "metadata": {},
   "outputs": [],
   "source": [
    "train_data = datasets.FashionMNIST(\n",
    "    root=\"data\",\n",
    "    train=True,\n",
    "    download=True,\n",
    "    transform=ToTensor()\n",
    ")\n",
    "\n",
    "test_data = datasets.FashionMNIST(\n",
    "    root=\"data\",\n",
    "    train=False,\n",
    "    download=True,\n",
    "    transform=ToTensor()\n",
    ")\n"
   ]
  },
  {
   "cell_type": "code",
   "execution_count": 45,
   "metadata": {},
   "outputs": [],
   "source": [
    "batch_size = 64\n",
    "train_dl = DataLoader(train_data,batch_size)\n",
    "test_dl = DataLoader(test_data,batch_size)"
   ]
  },
  {
   "cell_type": "code",
   "execution_count": 46,
   "metadata": {},
   "outputs": [
    {
     "name": "stdout",
     "output_type": "stream",
     "text": [
      "the shape of X: torch.Size([64, 1, 28, 28])\n",
      "the shape of y: torch.Size([64])\n"
     ]
    }
   ],
   "source": [
    "for x,y in test_dl:\n",
    "    print(\"the shape of X:\",x.shape)\n",
    "    print(\"the shape of y:\",y.shape)\n",
    "    break\n",
    "# height ve weightlerin çarpımı bizim input dimensionimiz olacak"
   ]
  },
  {
   "cell_type": "code",
   "execution_count": 47,
   "metadata": {},
   "outputs": [
    {
     "name": "stdout",
     "output_type": "stream",
     "text": [
      "Using cuda device\n",
      "NeuralNetworkModel(\n",
      "  (flatten): Flatten(start_dim=1, end_dim=-1)\n",
      "  (model): Sequential(\n",
      "    (0): Linear(in_features=784, out_features=512, bias=True)\n",
      "    (1): ReLU()\n",
      "    (2): Linear(in_features=512, out_features=512, bias=True)\n",
      "    (3): ReLU()\n",
      "    (4): Linear(in_features=512, out_features=10, bias=True)\n",
      "  )\n",
      ")\n"
     ]
    }
   ],
   "source": [
    "device = (\n",
    "    \"cuda\"\n",
    "    if torch.cuda.is_available()\n",
    "    else \"mps\"\n",
    "    if torch.backends.mps.is_available()\n",
    "    else \"cpu\"\n",
    ")\n",
    "print(f\"Using {device} device\")\n",
    "\n",
    "class NeuralNetworkModel(nn.Module):\n",
    "    def __init__(self):\n",
    "        super().__init__()\n",
    "        self.flatten = nn.Flatten()\n",
    "        self.model = nn.Sequential(\n",
    "            nn.Linear(in_features=28*28,out_features=512),\n",
    "            nn.ReLU(),\n",
    "            nn.Linear(in_features=512,out_features=512),\n",
    "            nn.ReLU(),\n",
    "            nn.Linear(in_features=512,out_features=10)\n",
    "        )\n",
    "\n",
    "\n",
    "\n",
    "    def forward(self,x):\n",
    "        x = self.flatten(x)\n",
    "        output = self.model(x)\n",
    "        return output\n",
    "\n",
    "model = NeuralNetworkModel().to(device)\n",
    "print(model)"
   ]
  },
  {
   "cell_type": "code",
   "execution_count": 48,
   "metadata": {},
   "outputs": [],
   "source": [
    "loss_fn = nn.CrossEntropyLoss()\n",
    "optimizer = torch.optim.SGD(params=model.parameters(),lr=1e-3)"
   ]
  },
  {
   "cell_type": "code",
   "execution_count": 54,
   "metadata": {},
   "outputs": [],
   "source": [
    "def train(dataloader,model,loss_fn,optimizer):\n",
    "    size = len(dataloader.dataset)\n",
    "    model.train()\n",
    "    # features and labels have to be in the same device\n",
    "    for batch,(x,y) in enumerate(dataloader):\n",
    "        x,y = x.to(device), y.to(device)\n",
    "\n",
    "        # Compute prediction error\n",
    "        pred = model(x)\n",
    "        loss = loss_fn(pred,y)\n",
    "\n",
    "        #backpropagation\n",
    "        loss.backward()\n",
    "        optimizer.step()\n",
    "        optimizer.zero_grad()\n",
    "        \n",
    "        if batch % 100 == 0:\n",
    "            loss, current = loss.item(), (batch + 1) * len(x)\n",
    "            print(f\"loss: {loss:>7f}  [{current:>5d}/{size:>5d}]\")\n",
    "    "
   ]
  },
  {
   "cell_type": "code",
   "execution_count": 50,
   "metadata": {},
   "outputs": [],
   "source": [
    "def test(dataloader,model,loss_fn):\n",
    "    size = len(dataloader.dataset)\n",
    "    num_batches = len(dataloader)\n",
    "    model.eval()\n",
    "    test_loss,correct = 0,0\n",
    "    with torch.no_grad():\n",
    "        for x,y in dataloader:\n",
    "            x,y = x.to(device), y.to(device)\n",
    "            pred = model(x)\n",
    "            test_loss += loss_fn(pred,y).item()\n",
    "            correct += (pred.argmax(1) == y).type(torch.float).sum().item()\n",
    "\n",
    "    test_loss /= num_batches\n",
    "    correct /= size\n",
    "    print(f\"Test Error: \\n Accuracy: {(100*correct):>0.1f}%, Avg loss: {test_loss:>8f} \\n\")\n"
   ]
  },
  {
   "cell_type": "code",
   "execution_count": 55,
   "metadata": {},
   "outputs": [
    {
     "name": "stdout",
     "output_type": "stream",
     "text": [
      "Epoch 1\n",
      "-------------------------------\n",
      "loss: 2.309624  [   64/60000]\n",
      "loss: 2.290961  [ 6464/60000]\n",
      "loss: 2.271246  [12864/60000]\n",
      "loss: 2.264795  [19264/60000]\n",
      "loss: 2.239261  [25664/60000]\n",
      "loss: 2.219515  [32064/60000]\n",
      "loss: 2.230751  [38464/60000]\n",
      "loss: 2.196655  [44864/60000]\n",
      "loss: 2.198726  [51264/60000]\n",
      "loss: 2.156978  [57664/60000]\n",
      "Test Error: \n",
      " Accuracy: 39.3%, Avg loss: 2.152850 \n",
      "\n",
      "Epoch 2\n",
      "-------------------------------\n",
      "loss: 2.172700  [   64/60000]\n",
      "loss: 2.158756  [ 6464/60000]\n",
      "loss: 2.097419  [12864/60000]\n",
      "loss: 2.104462  [19264/60000]\n",
      "loss: 2.052057  [25664/60000]\n",
      "loss: 1.996182  [32064/60000]\n",
      "loss: 2.023066  [38464/60000]\n",
      "loss: 1.946776  [44864/60000]\n",
      "loss: 1.960769  [51264/60000]\n",
      "loss: 1.866876  [57664/60000]\n",
      "Test Error: \n",
      " Accuracy: 48.9%, Avg loss: 1.874052 \n",
      "\n",
      "Epoch 3\n",
      "-------------------------------\n",
      "loss: 1.920617  [   64/60000]\n",
      "loss: 1.884297  [ 6464/60000]\n",
      "loss: 1.763705  [12864/60000]\n",
      "loss: 1.791616  [19264/60000]\n",
      "loss: 1.684395  [25664/60000]\n",
      "loss: 1.639802  [32064/60000]\n",
      "loss: 1.661770  [38464/60000]\n",
      "loss: 1.572397  [44864/60000]\n",
      "loss: 1.602343  [51264/60000]\n",
      "loss: 1.480740  [57664/60000]\n",
      "Test Error: \n",
      " Accuracy: 58.6%, Avg loss: 1.506719 \n",
      "\n",
      "Epoch 4\n",
      "-------------------------------\n",
      "loss: 1.583321  [   64/60000]\n",
      "loss: 1.544435  [ 6464/60000]\n",
      "loss: 1.392557  [12864/60000]\n",
      "loss: 1.456397  [19264/60000]\n",
      "loss: 1.342826  [25664/60000]\n",
      "loss: 1.339902  [32064/60000]\n",
      "loss: 1.360304  [38464/60000]\n",
      "loss: 1.292996  [44864/60000]\n",
      "loss: 1.327557  [51264/60000]\n",
      "loss: 1.221004  [57664/60000]\n",
      "Test Error: \n",
      " Accuracy: 62.9%, Avg loss: 1.248962 \n",
      "\n",
      "Epoch 5\n",
      "-------------------------------\n",
      "loss: 1.328751  [   64/60000]\n",
      "loss: 1.310207  [ 6464/60000]\n",
      "loss: 1.141364  [12864/60000]\n",
      "loss: 1.242612  [19264/60000]\n",
      "loss: 1.122118  [25664/60000]\n",
      "loss: 1.144145  [32064/60000]\n",
      "loss: 1.176058  [38464/60000]\n",
      "loss: 1.118780  [44864/60000]\n",
      "loss: 1.156237  [51264/60000]\n",
      "loss: 1.065634  [57664/60000]\n",
      "Test Error: \n",
      " Accuracy: 64.6%, Avg loss: 1.088161 \n",
      "\n",
      "Done!\n"
     ]
    }
   ],
   "source": [
    "epochs = 5\n",
    "for t in range(epochs):\n",
    "    print(f\"Epoch {t+1}\\n-------------------------------\")\n",
    "    train(train_dl,model,loss_fn,optimizer)\n",
    "    test(test_dl,model,loss_fn)\n",
    "print(\"Done!\")"
   ]
  },
  {
   "cell_type": "code",
   "execution_count": 56,
   "metadata": {},
   "outputs": [
    {
     "name": "stdout",
     "output_type": "stream",
     "text": [
      "Saved model state to MineModel.pth\n"
     ]
    }
   ],
   "source": [
    "torch.save(model.state_dict(),\"MineModel.pth\")\n",
    "print(\"Saved model state to MineModel.pth\")"
   ]
  },
  {
   "cell_type": "code",
   "execution_count": 57,
   "metadata": {},
   "outputs": [
    {
     "data": {
      "text/plain": [
       "<All keys matched successfully>"
      ]
     },
     "execution_count": 57,
     "metadata": {},
     "output_type": "execute_result"
    }
   ],
   "source": [
    "model = NeuralNetworkModel().to(device)\n",
    "model.load_state_dict(torch.load(\"MineModel.pth\"))"
   ]
  },
  {
   "cell_type": "code",
   "execution_count": 80,
   "metadata": {},
   "outputs": [
    {
     "name": "stdout",
     "output_type": "stream",
     "text": [
      "Predicted: \"Trouser\", Actual: \"Trouser\"\n"
     ]
    }
   ],
   "source": [
    "classes = [\n",
    "    \"T-shirt/top\",\n",
    "    \"Trouser\",\n",
    "    \"Pullover\",\n",
    "    \"Dress\",\n",
    "    \"Coat\",\n",
    "    \"Sandal\",\n",
    "    \"Shirt\",\n",
    "    \"Sneaker\",\n",
    "    \"Bag\",\n",
    "    \"Ankle boot\",\n",
    "]\n",
    "\n",
    "model.eval()\n",
    "x,y = test_data[2][0], test_data[2][1]\n",
    "with torch.no_grad():\n",
    "    x = x.to(device)\n",
    "    pred = model(x)\n",
    "    predicted,actual = classes[pred.argmax()],classes[y]\n",
    "    print(f'Predicted: \"{predicted}\", Actual: \"{actual}\"')\n",
    "    "
   ]
  },
  {
   "cell_type": "code",
   "execution_count": null,
   "metadata": {},
   "outputs": [],
   "source": []
  }
 ],
 "metadata": {
  "kernelspec": {
   "display_name": "Python 3",
   "language": "python",
   "name": "python3"
  },
  "language_info": {
   "codemirror_mode": {
    "name": "ipython",
    "version": 3
   },
   "file_extension": ".py",
   "mimetype": "text/x-python",
   "name": "python",
   "nbconvert_exporter": "python",
   "pygments_lexer": "ipython3",
   "version": "3.10.11"
  },
  "orig_nbformat": 4
 },
 "nbformat": 4,
 "nbformat_minor": 2
}
